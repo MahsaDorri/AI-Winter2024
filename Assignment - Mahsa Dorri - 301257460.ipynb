{
 "cells": [
  {
   "attachments": {},
   "cell_type": "markdown",
   "metadata": {},
   "source": [
    "# COMP377: AI for Software Developers\n",
    "## Assignment 1: Linear Regression\n",
    "### Exercise 1\n",
    "\n",
    "Name: -------------------------Mahsa Dorri-------------------------------------\n",
    "\n",
    "Student ID: --------------------------------------------------------\n",
    "\n",
    "Date: --------------------------------------------------------------\n",
    "\n",
    "File Name: MahsaDorri301257460Lab2_Ex2\n",
    "\n",
    "### Instructions\n",
    "\n",
    "1.  Complete the code in the cells provided according to the instructions given in the comments.\n",
    "2.  Ensure that your code runs without errors.\n",
    "3.  Submit your completed notebook via eCentennial.\n"
   ]
  },
  {
   "attachments": {},
   "cell_type": "markdown",
   "metadata": {},
   "source": [
    "### Import Libraries"
   ]
  },
  {
   "cell_type": "code",
   "execution_count": 7,
   "metadata": {},
   "outputs": [],
   "source": [
    "import pandas as pd\n",
    "import numpy as np\n",
    "import requests\n",
    "import io\n",
    "from zipfile import ZipFile\n",
    "from sklearn.model_selection import train_test_split\n",
    "from sklearn.linear_model import LogisticRegression\n",
    "from sklearn.metrics import accuracy_score, precision_score, recall_score, f1_score, confusion_matrix, roc_auc_score, roc_curve\n",
    "from sklearn.impute import SimpleImputer\n",
    "from sklearn.model_selection import GridSearchCV\n",
    "import matplotlib.pyplot as plt\n",
    "import seaborn as sns\n",
    "from joblib import dump, load\n",
    "from sklearn.metrics import accuracy_score, confusion_matrix, classification_report\n",
    "\n",
    "import io"
   ]
  },
  {
   "attachments": {},
   "cell_type": "markdown",
   "metadata": {},
   "source": [
    "### Part 1: Data Loading"
   ]
  },
  {
   "cell_type": "code",
   "execution_count": 8,
   "metadata": {},
   "outputs": [
    {
     "name": "stdout",
     "output_type": "stream",
     "text": [
      "['school' 'sex' 'age' 'address' 'famsize' 'Pstatus' 'Medu' 'Fedu' 'Mjob'\n",
      " 'Fjob' 'reason' 'guardian' 'traveltime' 'studytime' 'failures'\n",
      " 'schoolsup' 'famsup' 'paid' 'activities' 'nursery' 'higher' 'internet'\n",
      " 'romantic' 'famrel' 'freetime' 'goout' 'Dalc' 'Walc' 'health' 'absences'\n",
      " 'G1' 'G2' 'G3']\n"
     ]
    },
    {
     "data": {
      "text/plain": [
       "school        object\n",
       "sex           object\n",
       "age            int64\n",
       "address       object\n",
       "famsize       object\n",
       "Pstatus       object\n",
       "Medu           int64\n",
       "Fedu           int64\n",
       "Mjob          object\n",
       "Fjob          object\n",
       "reason        object\n",
       "guardian      object\n",
       "traveltime     int64\n",
       "studytime      int64\n",
       "failures       int64\n",
       "schoolsup     object\n",
       "famsup        object\n",
       "paid          object\n",
       "activities    object\n",
       "nursery       object\n",
       "higher        object\n",
       "internet      object\n",
       "romantic      object\n",
       "famrel         int64\n",
       "freetime       int64\n",
       "goout          int64\n",
       "Dalc           int64\n",
       "Walc           int64\n",
       "health         int64\n",
       "absences       int64\n",
       "G1             int64\n",
       "G2             int64\n",
       "G3             int64\n",
       "dtype: object"
      ]
     },
     "execution_count": 8,
     "metadata": {},
     "output_type": "execute_result"
    }
   ],
   "source": [
    "\n",
    "\n",
    "## Part 1: Data Loading ##\n",
    "\n",
    "data_url = \"https://archive.ics.uci.edu/ml/machine-learning-databases/00320/student.zip\"\n",
    "\n",
    "response = requests.get(data_url)\n",
    "zip_file = ZipFile(io.BytesIO(response.content))\n",
    "csv_file = zip_file.open('student-mat.csv')\n",
    "df_student = pd.read_csv(csv_file, sep=\";\")\n",
    "df_student.head()\n",
    "df_student.head()\n",
    "df_student.shape\n",
    "\n",
    "print(df_student.columns.values)\n",
    "\n",
    "df_student.describe()\n",
    "df_student.dtypes"
   ]
  },
  {
   "attachments": {},
   "cell_type": "markdown",
   "metadata": {},
   "source": [
    "#Importing necessary libraries for data analysis and machine learning is the first step. Requests are then used to retrieve the compressed dataset.obtain.\n",
    "Extracting and Loading Data: A pandas DataFrame containing the initial data structure with.head() and.shape is created once the dataset is loaded from the zip file.\n",
    "Data Overview: The outputs give a thorough overview of the qualities and characteristics of the dataset, including column names, a statistical summary, and data types.\n"
   ]
  },
  {
   "attachments": {},
   "cell_type": "markdown",
   "metadata": {},
   "source": [
    "### Part 2: Data Preprocessing"
   ]
  },
  {
   "cell_type": "code",
   "execution_count": 9,
   "metadata": {},
   "outputs": [
    {
     "data": {
      "text/html": [
       "<div>\n",
       "<style scoped>\n",
       "    .dataframe tbody tr th:only-of-type {\n",
       "        vertical-align: middle;\n",
       "    }\n",
       "\n",
       "    .dataframe tbody tr th {\n",
       "        vertical-align: top;\n",
       "    }\n",
       "\n",
       "    .dataframe thead th {\n",
       "        text-align: right;\n",
       "    }\n",
       "</style>\n",
       "<table border=\"1\" class=\"dataframe\">\n",
       "  <thead>\n",
       "    <tr style=\"text-align: right;\">\n",
       "      <th></th>\n",
       "      <th>school</th>\n",
       "      <th>sex</th>\n",
       "      <th>age</th>\n",
       "      <th>address</th>\n",
       "      <th>famsize</th>\n",
       "      <th>Pstatus</th>\n",
       "      <th>Medu</th>\n",
       "      <th>Fedu</th>\n",
       "      <th>Mjob</th>\n",
       "      <th>Fjob</th>\n",
       "      <th>...</th>\n",
       "      <th>freetime</th>\n",
       "      <th>goout</th>\n",
       "      <th>Dalc</th>\n",
       "      <th>Walc</th>\n",
       "      <th>health</th>\n",
       "      <th>absences</th>\n",
       "      <th>G1</th>\n",
       "      <th>G2</th>\n",
       "      <th>G3</th>\n",
       "      <th>passed</th>\n",
       "    </tr>\n",
       "  </thead>\n",
       "  <tbody>\n",
       "    <tr>\n",
       "      <th>0</th>\n",
       "      <td>0.0</td>\n",
       "      <td>0.0</td>\n",
       "      <td>0.186257</td>\n",
       "      <td>1.0</td>\n",
       "      <td>0.0</td>\n",
       "      <td>0.0</td>\n",
       "      <td>1.00</td>\n",
       "      <td>1.00</td>\n",
       "      <td>0.00</td>\n",
       "      <td>1.00</td>\n",
       "      <td>...</td>\n",
       "      <td>0.50</td>\n",
       "      <td>0.75</td>\n",
       "      <td>0.00</td>\n",
       "      <td>0.00</td>\n",
       "      <td>0.5</td>\n",
       "      <td>0.003882</td>\n",
       "      <td>-0.369304</td>\n",
       "      <td>-0.248101</td>\n",
       "      <td>-0.220759</td>\n",
       "      <td>0.0</td>\n",
       "    </tr>\n",
       "    <tr>\n",
       "      <th>1</th>\n",
       "      <td>0.0</td>\n",
       "      <td>0.0</td>\n",
       "      <td>0.043400</td>\n",
       "      <td>1.0</td>\n",
       "      <td>0.0</td>\n",
       "      <td>1.0</td>\n",
       "      <td>0.25</td>\n",
       "      <td>0.25</td>\n",
       "      <td>0.00</td>\n",
       "      <td>0.50</td>\n",
       "      <td>...</td>\n",
       "      <td>0.50</td>\n",
       "      <td>0.50</td>\n",
       "      <td>0.00</td>\n",
       "      <td>0.00</td>\n",
       "      <td>0.5</td>\n",
       "      <td>-0.022785</td>\n",
       "      <td>-0.369304</td>\n",
       "      <td>-0.300733</td>\n",
       "      <td>-0.220759</td>\n",
       "      <td>0.0</td>\n",
       "    </tr>\n",
       "    <tr>\n",
       "      <th>2</th>\n",
       "      <td>0.0</td>\n",
       "      <td>0.0</td>\n",
       "      <td>-0.242315</td>\n",
       "      <td>1.0</td>\n",
       "      <td>1.0</td>\n",
       "      <td>1.0</td>\n",
       "      <td>0.25</td>\n",
       "      <td>0.25</td>\n",
       "      <td>0.00</td>\n",
       "      <td>0.50</td>\n",
       "      <td>...</td>\n",
       "      <td>0.50</td>\n",
       "      <td>0.25</td>\n",
       "      <td>0.25</td>\n",
       "      <td>0.50</td>\n",
       "      <td>0.5</td>\n",
       "      <td>0.057215</td>\n",
       "      <td>-0.244304</td>\n",
       "      <td>-0.142838</td>\n",
       "      <td>-0.020759</td>\n",
       "      <td>1.0</td>\n",
       "    </tr>\n",
       "    <tr>\n",
       "      <th>3</th>\n",
       "      <td>0.0</td>\n",
       "      <td>0.0</td>\n",
       "      <td>-0.242315</td>\n",
       "      <td>1.0</td>\n",
       "      <td>0.0</td>\n",
       "      <td>1.0</td>\n",
       "      <td>1.00</td>\n",
       "      <td>0.50</td>\n",
       "      <td>0.25</td>\n",
       "      <td>0.75</td>\n",
       "      <td>...</td>\n",
       "      <td>0.25</td>\n",
       "      <td>0.25</td>\n",
       "      <td>0.00</td>\n",
       "      <td>0.00</td>\n",
       "      <td>1.0</td>\n",
       "      <td>-0.049451</td>\n",
       "      <td>0.255696</td>\n",
       "      <td>0.172951</td>\n",
       "      <td>0.229241</td>\n",
       "      <td>1.0</td>\n",
       "    </tr>\n",
       "    <tr>\n",
       "      <th>4</th>\n",
       "      <td>0.0</td>\n",
       "      <td>0.0</td>\n",
       "      <td>-0.099458</td>\n",
       "      <td>1.0</td>\n",
       "      <td>0.0</td>\n",
       "      <td>1.0</td>\n",
       "      <td>0.75</td>\n",
       "      <td>0.75</td>\n",
       "      <td>0.50</td>\n",
       "      <td>0.50</td>\n",
       "      <td>...</td>\n",
       "      <td>0.50</td>\n",
       "      <td>0.25</td>\n",
       "      <td>0.00</td>\n",
       "      <td>0.25</td>\n",
       "      <td>1.0</td>\n",
       "      <td>-0.022785</td>\n",
       "      <td>-0.306804</td>\n",
       "      <td>-0.037575</td>\n",
       "      <td>-0.020759</td>\n",
       "      <td>1.0</td>\n",
       "    </tr>\n",
       "  </tbody>\n",
       "</table>\n",
       "<p>5 rows × 34 columns</p>\n",
       "</div>"
      ],
      "text/plain": [
       "   school  sex       age  address  famsize  Pstatus  Medu  Fedu  Mjob  Fjob  \\\n",
       "0     0.0  0.0  0.186257      1.0      0.0      0.0  1.00  1.00  0.00  1.00   \n",
       "1     0.0  0.0  0.043400      1.0      0.0      1.0  0.25  0.25  0.00  0.50   \n",
       "2     0.0  0.0 -0.242315      1.0      1.0      1.0  0.25  0.25  0.00  0.50   \n",
       "3     0.0  0.0 -0.242315      1.0      0.0      1.0  1.00  0.50  0.25  0.75   \n",
       "4     0.0  0.0 -0.099458      1.0      0.0      1.0  0.75  0.75  0.50  0.50   \n",
       "\n",
       "   ...  freetime  goout  Dalc  Walc  health  absences        G1        G2  \\\n",
       "0  ...      0.50   0.75  0.00  0.00     0.5  0.003882 -0.369304 -0.248101   \n",
       "1  ...      0.50   0.50  0.00  0.00     0.5 -0.022785 -0.369304 -0.300733   \n",
       "2  ...      0.50   0.25  0.25  0.50     0.5  0.057215 -0.244304 -0.142838   \n",
       "3  ...      0.25   0.25  0.00  0.00     1.0 -0.049451  0.255696  0.172951   \n",
       "4  ...      0.50   0.25  0.00  0.25     1.0 -0.022785 -0.306804 -0.037575   \n",
       "\n",
       "         G3  passed  \n",
       "0 -0.220759     0.0  \n",
       "1 -0.220759     0.0  \n",
       "2 -0.020759     1.0  \n",
       "3  0.229241     1.0  \n",
       "4 -0.020759     1.0  \n",
       "\n",
       "[5 rows x 34 columns]"
      ]
     },
     "execution_count": 9,
     "metadata": {},
     "output_type": "execute_result"
    }
   ],
   "source": [
    "## Part 2: Data Pre-processing ##\n",
    "\n",
    "# write a code to get passing student also we consider G3>10 passed otherwise they fails\n",
    "df_student['passed'] = df_student['G3'].apply(lambda x: 1 if x >= 10 else 0)\n",
    "\n",
    "#label encong cathegorical \n",
    "from sklearn.preprocessing import LabelEncoder\n",
    "\n",
    "def encode_categorical_data_with_labelencoder(df):\n",
    "    label_encoder = LabelEncoder()\n",
    "    categorical_cols = df.select_dtypes(include=['object']).columns\n",
    "    for col in categorical_cols:\n",
    "        df[col] = label_encoder.fit_transform(df[col])\n",
    "        \n",
    "    return df\n",
    "df_student_encoded = encode_categorical_data_with_labelencoder(df_student)\n",
    "df_student_encoded.head()\n",
    "\n",
    "# Function for custom feature scaling\n",
    "def feature_scaling(df):\n",
    "    numerical_cols = df.select_dtypes(include=[np.number]).columns\n",
    "    for col in numerical_cols:\n",
    "        max_val = np.max(df[col])\n",
    "        min_val = np.min(df[col])\n",
    "        mean_val = np.mean(df[col])\n",
    "        if max_val > 6:  \n",
    "            df[col] = (df[col] - mean_val) / (max_val - min_val)\n",
    "        else:  \n",
    "            df[col] = (df[col] - min_val) / (max_val - min_val)\n",
    "    return df\n",
    "x_train.head()\n",
    "#  scaling functions\n",
    "df_student = feature_scaling(df_student_encoded)\n",
    "df_student.head()"
   ]
  },
  {
   "attachments": {},
   "cell_type": "markdown",
   "metadata": {},
   "source": [
    "To create a pass/fail indicator, add a 'passed' column to the DataFrame. Students are designated as passed (1) if they receive a final grade (G3) of 10 or better, and failed (0) if they do not.\n",
    "\n",
    "Categorical Data Encoding: This function uses LabelEncoder to encode all categorical features, transforming text-based categories into numerical values to support machine learning.\n",
    "\n",
    "Feature Scaling: By standardizing feature magnitudes, a custom feature scaling function is applied to the dataset, normalizing numerical features according to their maximum value. Features with a max value larger than 6 are handled differently. This enhances model performance.\n"
   ]
  },
  {
   "attachments": {},
   "cell_type": "markdown",
   "metadata": {},
   "source": [
    "### Part 3: Create and Train Model"
   ]
  },
  {
   "cell_type": "code",
   "execution_count": 10,
   "metadata": {},
   "outputs": [
    {
     "data": {
      "text/html": [
       "<style>#sk-container-id-1 {color: black;background-color: white;}#sk-container-id-1 pre{padding: 0;}#sk-container-id-1 div.sk-toggleable {background-color: white;}#sk-container-id-1 label.sk-toggleable__label {cursor: pointer;display: block;width: 100%;margin-bottom: 0;padding: 0.3em;box-sizing: border-box;text-align: center;}#sk-container-id-1 label.sk-toggleable__label-arrow:before {content: \"▸\";float: left;margin-right: 0.25em;color: #696969;}#sk-container-id-1 label.sk-toggleable__label-arrow:hover:before {color: black;}#sk-container-id-1 div.sk-estimator:hover label.sk-toggleable__label-arrow:before {color: black;}#sk-container-id-1 div.sk-toggleable__content {max-height: 0;max-width: 0;overflow: hidden;text-align: left;background-color: #f0f8ff;}#sk-container-id-1 div.sk-toggleable__content pre {margin: 0.2em;color: black;border-radius: 0.25em;background-color: #f0f8ff;}#sk-container-id-1 input.sk-toggleable__control:checked~div.sk-toggleable__content {max-height: 200px;max-width: 100%;overflow: auto;}#sk-container-id-1 input.sk-toggleable__control:checked~label.sk-toggleable__label-arrow:before {content: \"▾\";}#sk-container-id-1 div.sk-estimator input.sk-toggleable__control:checked~label.sk-toggleable__label {background-color: #d4ebff;}#sk-container-id-1 div.sk-label input.sk-toggleable__control:checked~label.sk-toggleable__label {background-color: #d4ebff;}#sk-container-id-1 input.sk-hidden--visually {border: 0;clip: rect(1px 1px 1px 1px);clip: rect(1px, 1px, 1px, 1px);height: 1px;margin: -1px;overflow: hidden;padding: 0;position: absolute;width: 1px;}#sk-container-id-1 div.sk-estimator {font-family: monospace;background-color: #f0f8ff;border: 1px dotted black;border-radius: 0.25em;box-sizing: border-box;margin-bottom: 0.5em;}#sk-container-id-1 div.sk-estimator:hover {background-color: #d4ebff;}#sk-container-id-1 div.sk-parallel-item::after {content: \"\";width: 100%;border-bottom: 1px solid gray;flex-grow: 1;}#sk-container-id-1 div.sk-label:hover label.sk-toggleable__label {background-color: #d4ebff;}#sk-container-id-1 div.sk-serial::before {content: \"\";position: absolute;border-left: 1px solid gray;box-sizing: border-box;top: 0;bottom: 0;left: 50%;z-index: 0;}#sk-container-id-1 div.sk-serial {display: flex;flex-direction: column;align-items: center;background-color: white;padding-right: 0.2em;padding-left: 0.2em;position: relative;}#sk-container-id-1 div.sk-item {position: relative;z-index: 1;}#sk-container-id-1 div.sk-parallel {display: flex;align-items: stretch;justify-content: center;background-color: white;position: relative;}#sk-container-id-1 div.sk-item::before, #sk-container-id-1 div.sk-parallel-item::before {content: \"\";position: absolute;border-left: 1px solid gray;box-sizing: border-box;top: 0;bottom: 0;left: 50%;z-index: -1;}#sk-container-id-1 div.sk-parallel-item {display: flex;flex-direction: column;z-index: 1;position: relative;background-color: white;}#sk-container-id-1 div.sk-parallel-item:first-child::after {align-self: flex-end;width: 50%;}#sk-container-id-1 div.sk-parallel-item:last-child::after {align-self: flex-start;width: 50%;}#sk-container-id-1 div.sk-parallel-item:only-child::after {width: 0;}#sk-container-id-1 div.sk-dashed-wrapped {border: 1px dashed gray;margin: 0 0.4em 0.5em 0.4em;box-sizing: border-box;padding-bottom: 0.4em;background-color: white;}#sk-container-id-1 div.sk-label label {font-family: monospace;font-weight: bold;display: inline-block;line-height: 1.2em;}#sk-container-id-1 div.sk-label-container {text-align: center;}#sk-container-id-1 div.sk-container {/* jupyter's `normalize.less` sets `[hidden] { display: none; }` but bootstrap.min.css set `[hidden] { display: none !important; }` so we also need the `!important` here to be able to override the default hidden behavior on the sphinx rendered scikit-learn.org. See: https://github.com/scikit-learn/scikit-learn/issues/21755 */display: inline-block !important;position: relative;}#sk-container-id-1 div.sk-text-repr-fallback {display: none;}</style><div id=\"sk-container-id-1\" class=\"sk-top-container\"><div class=\"sk-text-repr-fallback\"><pre>LogisticRegression()</pre><b>In a Jupyter environment, please rerun this cell to show the HTML representation or trust the notebook. <br />On GitHub, the HTML representation is unable to render, please try loading this page with nbviewer.org.</b></div><div class=\"sk-container\" hidden><div class=\"sk-item\"><div class=\"sk-estimator sk-toggleable\"><input class=\"sk-toggleable__control sk-hidden--visually\" id=\"sk-estimator-id-1\" type=\"checkbox\" checked><label for=\"sk-estimator-id-1\" class=\"sk-toggleable__label sk-toggleable__label-arrow\">LogisticRegression</label><div class=\"sk-toggleable__content\"><pre>LogisticRegression()</pre></div></div></div></div></div>"
      ],
      "text/plain": [
       "LogisticRegression()"
      ]
     },
     "execution_count": 10,
     "metadata": {},
     "output_type": "execute_result"
    }
   ],
   "source": [
    "\n",
    "X = df_student_encoded.drop([ 'G3', 'passed'], axis=1)  \n",
    "y = df_student_encoded['passed']  \n",
    "x_train,x_test,y_train,y_test = train_test_split(X,y,test_size=0.2,random_state=42)\n",
    "\n",
    "#  the logistic regression model\n",
    "logistic_reg_model = LogisticRegression()\n",
    "\n",
    "\n",
    "logistic_reg_model.fit(x_train, y_train)\n",
    "\n",
    "\n",
    "\n",
    "\n"
   ]
  },
  {
   "attachments": {},
   "cell_type": "markdown",
   "metadata": {},
   "source": [
    "### Part 4: Test Model"
   ]
  },
  {
   "cell_type": "code",
   "execution_count": 11,
   "metadata": {},
   "outputs": [
    {
     "name": "stdout",
     "output_type": "stream",
     "text": [
      "Accuracy: 0.8861\n",
      "Precision: 0.9057\n",
      "Recall: 0.9231\n",
      "F1 Score: 0.9143\n",
      "Confusion Matrix:\n",
      "[[22  5]\n",
      " [ 4 48]]\n",
      "Classification Report:\n",
      "              precision    recall  f1-score   support\n",
      "\n",
      "         0.0       0.85      0.81      0.83        27\n",
      "         1.0       0.91      0.92      0.91        52\n",
      "\n",
      "    accuracy                           0.89        79\n",
      "   macro avg       0.88      0.87      0.87        79\n",
      "weighted avg       0.89      0.89      0.89        79\n",
      "\n"
     ]
    }
   ],
   "source": [
    "imputer = SimpleImputer(strategy='mean')\n",
    "feature_names = x_train.columns\n",
    "x_train_imputed = pd.DataFrame(imputer.fit_transform(x_train), columns=feature_names)\n",
    "x_test_imputed = pd.DataFrame(imputer.transform(x_test), columns=feature_names)\n",
    "\n",
    "logistic_reg_model.fit(x_train_imputed, y_train)\n",
    "\n",
    "y_pred = logistic_reg_model.predict(x_test_imputed)\n",
    "\n",
    "\n",
    "# Calculate accuracy\n",
    "accuracy = accuracy_score(y_test, y_pred)\n",
    "print(f\"Accuracy: {accuracy:.4f}\")\n",
    "\n",
    "precision = precision_score(y_test, y_pred)\n",
    "recall = recall_score(y_test, y_pred)\n",
    "f1 = f1_score(y_test, y_pred)\n",
    "print(f\"Precision: {precision:.4f}\")\n",
    "print(f\"Recall: {recall:.4f}\")\n",
    "print(f\"F1 Score: {f1:.4f}\")\n",
    "\n",
    "conf_matrix = confusion_matrix(y_test, y_pred)\n",
    "print(\"Confusion Matrix:\")\n",
    "print(conf_matrix)\n",
    "\n",
    "class_report = classification_report(y_test, y_pred)\n",
    "print(\"Classification Report:\")\n",
    "print(class_report)"
   ]
  },
  {
   "attachments": {},
   "cell_type": "markdown",
   "metadata": {},
   "source": [
    "With an accuracy of 88.61%, the Logistic Regression model shows good efficacy in predicting student pass/fail results. "
   ]
  },
  {
   "attachments": {},
   "cell_type": "markdown",
   "metadata": {},
   "source": [
    "The pre-processed dataset is split into training and testing sets, and a Logistic Regression model is initialized to predict student pass/fail outcomes based on their attributes, with the exception of the derived passed column and the final grade (G3).\n",
    "\n",
    "Handling Missing Values & Model Training: To ensure robustness against incomplete data, SimpleImputer is used to impute the mean of each column to fill in missing values in the training and testing sets. The Logistic Regression model is then retrained using this imputed data.\n",
    "\n",
    "Performance Evaluation: Provides a thorough assessment of the model's efficacy in assigning students to pass-or-fail classes based on test set pass/fail outcomes and computes performance metrics (accuracy, precision, recall, F1 score), in addition to a confusion matrix and classification report.\n",
    "\n",
    "\n",
    "\n",
    "\n",
    "\n"
   ]
  },
  {
   "attachments": {},
   "cell_type": "markdown",
   "metadata": {},
   "source": [
    "### Part 5: Calculate Accuracy & Accuracy"
   ]
  },
  {
   "cell_type": "code",
   "execution_count": 12,
   "metadata": {},
   "outputs": [
    {
     "name": "stdout",
     "output_type": "stream",
     "text": [
      "Accuracy of Logistic Regression Model: 0.8860759493670886\n",
      "Precision: 0.9057\n",
      "Recall: 0.9231\n",
      "F1 Score: 0.9143\n",
      "Confusion Matrix:\n",
      "[[22  5]\n",
      " [ 4 48]]\n"
     ]
    }
   ],
   "source": [
    "### Part 5: Model Accuracy ###\n",
    "# Additional Model Evaluation Metrics\n",
    "# Accuracy\n",
    "accuracy = accuracy_score(y_test, y_pred)\n",
    "print(\"Accuracy of Logistic Regression Model:\", accuracy)\n",
    "\n",
    "# Precision, Recall, F1 Score\n",
    "precision = precision_score(y_test, y_pred)\n",
    "recall = recall_score(y_test, y_pred)\n",
    "f1 = f1_score(y_test, y_pred)\n",
    "print(f\"Precision: {precision:.4f}\")\n",
    "print(f\"Recall: {recall:.4f}\")\n",
    "print(f\"F1 Score: {f1:.4f}\")\n",
    "\n",
    "# Confusion Matrix\n",
    "cm = confusion_matrix(y_test, y_pred)\n",
    "print(\"Confusion Matrix:\")\n",
    "print(cm)\n",
    "\n"
   ]
  },
  {
   "attachments": {},
   "cell_type": "markdown",
   "metadata": {},
   "source": [
    "This section evaluates the Logistic Regression model's performance on predicting student outcomes, highlighting accuracy, precision, recall, and F1 score as key metrics for assessing its effectiveness and reliability. The confusion matrix provides a detailed breakdown of true positives, false positives, true negatives, and false negatives, further illustrating the model's predictive accuracy in classifying students as passing or failing.\n",
    "The Logistic Regression model demonstrates high accuracy (88.61%) and balanced performance (precision of 90.57%, recall of 92.31%, F1 score of 91.43%) in predicting student pass/fail outcomes, proving its efficacy in educational settings."
   ]
  },
  {
   "attachments": {},
   "cell_type": "markdown",
   "metadata": {},
   "source": [
    "### Visualization and Display (Optional)"
   ]
  },
  {
   "cell_type": "code",
   "execution_count": 13,
   "metadata": {},
   "outputs": [
    {
     "data": {
      "image/png": "[encoded data removed]",
      "text/plain": [
       "<Figure size 800x600 with 2 Axes>"
      ]
     },
     "metadata": {},
     "output_type": "display_data"
    },
    {
     "data": {
      "image/png": "[encoded data removed]",
      "text/plain": [
       "<Figure size 800x600 with 1 Axes>"
      ]
     },
     "metadata": {},
     "output_type": "display_data"
    },
    {
     "name": "stdout",
     "output_type": "stream",
     "text": [
      "ROC AUC Score: 0.9473\n"
     ]
    }
   ],
   "source": [
    "### Visualization & Display ###\n",
    "# Confusion Matrix Visualization\n",
    "plt.figure(figsize=(8, 6))\n",
    "sns.heatmap(cm, annot=True, fmt=\"d\", cmap='Blues', xticklabels=['Not Passed', 'Passed'], yticklabels=['Not Passed', 'Passed'])\n",
    "plt.xlabel('Predicted')\n",
    "plt.ylabel('Actual')\n",
    "plt.title('Confusion Matrix')\n",
    "plt.show()\n",
    "\n",
    "# ROC Curve\n",
    "y_prob = logistic_reg_model.predict_proba(x_test_imputed)[:, 1]\n",
    "roc_auc = roc_auc_score(y_test, y_prob)\n",
    "fpr, tpr, thresholds = roc_curve(y_test, y_prob)\n",
    "\n",
    "plt.figure(figsize=(8, 6))\n",
    "plt.plot(fpr, tpr, label=f'ROC curve (area = {roc_auc:.2f})')\n",
    "plt.plot([0, 1], [0, 1], 'k--')\n",
    "plt.xlabel('False Positive Rate')\n",
    "plt.ylabel('True Positive Rate')\n",
    "plt.title('ROC Curve')\n",
    "plt.legend(loc=\"lower right\")\n",
    "plt.show()\n",
    "\n",
    "print(f\"ROC AUC Score: {roc_auc:.4f}\")\n"
   ]
  },
  {
   "attachments": {},
   "cell_type": "markdown",
   "metadata": {},
   "source": [
    "### Summary and Conclusions\n",
    "\n",
    "\n",
    "With an accuracy of 88.61%, the logistic regression model showed great efficacy in forecasting student pass results.\n",
    "The remarkable discriminative performance of the model between passing and failing classes is further demonstrated by its ROC AUC score of 95.44%. Based on these indicators, it appears that the model may be a useful resource for educational institutions trying to identify kids who are at risk early on.\n",
    "\n",
    "A binary classification model's performance is visually represented by the Confusion Matrix, which provides information on the model's accuracy and error rates by displaying 48 true positives, 5 false positives, and 22 true negatives in addition to 4 false negatives."
   ]
  }
 ],
 "metadata": {
  "kernelspec": {
   "display_name": "base",
   "language": "python",
   "name": "python3"
  },
  "language_info": {
   "codemirror_mode": {
    "name": "ipython",
    "version": 3
   },
   "file_extension": ".py",
   "mimetype": "text/x-python",
   "name": "python",
   "nbconvert_exporter": "python",
   "pygments_lexer": "ipython3",
   "version": "3.10.9"
  }
 },
 "nbformat": 4,
 "nbformat_minor": 2
}
